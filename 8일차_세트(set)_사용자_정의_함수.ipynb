{
  "nbformat": 4,
  "nbformat_minor": 0,
  "metadata": {
    "colab": {
      "provenance": [],
      "authorship_tag": "ABX9TyMJ1VIUTCgjDrxba+4KKtcZ",
      "include_colab_link": true
    },
    "kernelspec": {
      "name": "python3",
      "display_name": "Python 3"
    },
    "language_info": {
      "name": "python"
    }
  },
  "cells": [
    {
      "cell_type": "markdown",
      "metadata": {
        "id": "view-in-github",
        "colab_type": "text"
      },
      "source": [
        "<a href=\"https://colab.research.google.com/github/leegayeon0665/pythonbasic/blob/main/8%EC%9D%BC%EC%B0%A8_%EC%84%B8%ED%8A%B8(set)_%EC%82%AC%EC%9A%A9%EC%9E%90_%EC%A0%95%EC%9D%98_%ED%95%A8%EC%88%98.ipynb\" target=\"_parent\"><img src=\"https://colab.research.google.com/assets/colab-badge.svg\" alt=\"Open In Colab\"/></a>"
      ]
    },
    {
      "cell_type": "markdown",
      "source": [
        "##컬렉션 데이터-세트\n",
        "*집합에 관련된 것을 쉽게 처리하기 위해 만든 자료형, 중복을 허용하지 않는 컬렉션 자료형\n",
        "\n",
        "*순서가 없기 때문에 인덱싱으로 값을 얻을 수 없음\n",
        "\n",
        "*세트명={값1,값2,값3...}\n",
        "*세트명=set()\n",
        "\n",
        "\n",
        "-add()함수: 값1개 추가\n",
        "-update()함수: 값 여러 개 추가\n",
        "-remove()함수: 특정 값 삭제"
      ],
      "metadata": {
        "id": "npMe03tiF-Z5"
      }
    },
    {
      "cell_type": "code",
      "execution_count": null,
      "metadata": {
        "colab": {
          "base_uri": "https://localhost:8080/"
        },
        "id": "J0Ecx5rgF9g2",
        "outputId": "f6230f6a-b290-452f-825e-bd914fceac96"
      },
      "outputs": [
        {
          "output_type": "stream",
          "name": "stdout",
          "text": [
            "{20}\n",
            "{20, 40, 10, 30}\n",
            "{10, 30}\n"
          ]
        }
      ],
      "source": [
        "a={10,20,30}\n",
        "b={20,40}\n",
        "\n",
        "print(a&b) #교집합\n",
        "print(a|b) #합집합\n",
        "print(a-b) #차집합"
      ]
    },
    {
      "cell_type": "markdown",
      "source": [
        "##함수(function)\n",
        "*특정 기능을 수행하는 코드들을 묶어놓은 것으로, 재사용 가능한 코드 블록\n",
        "\n",
        "*사용자는 함수에 값을 넣어 결과를 얻는 것을 의미함\n",
        "\n",
        "*함수를 사용하는 이유\n",
        "\n",
        "-코드의 재사용:매번 중복되는 코드를 함수로 만들어 사용하면(사용자 정의 함수) 프로그램의 코드 양이 줄어들고 간결해짐\n",
        "\n",
        "-코드 수정 용이\n",
        "\n",
        "= 코드에 수정 사항이 발생했을 때 함수를 사용하면 함수만 수정하면 됨\n",
        "\n",
        "=만약 함수를 사용하지 않는다면 모든 코드를 수정해야 하는 불편함이 있고, 자칫 일부 코드가 수정되지 않아 프로그램에 심각한 오류가 발생할 수 있음\n",
        "\n",
        "-모듈화(반드시 코드만 저장, 메모는 없어야 함)\n",
        "\n",
        "=모듈은 특정 기능의 작은 프로그램\n",
        "\n",
        "=특정 기능이 함수로 모듈화되면 다른 프로그램에 쉽게 이식하여 사용할 수 있으며 그만큼 프로그램을 만드는 시간도 단축됨"
      ],
      "metadata": {
        "id": "K5sgb5kMHrJ6"
      }
    },
    {
      "cell_type": "markdown",
      "source": [
        "##함수의 종류\n",
        "*내장함수: 파이썬에서 기본으로 제공하는 함수\n",
        "\n",
        "*사용자 함수:사용자가 필요할 때 만들어 쓰는 함수\n",
        "\n",
        "##함수의 정의와 호출\n",
        "*함수를 만들고(정의), 프로그램 내 어떤 위치에서든  필요할 때마다 함수 이름을 사용해 호출\n",
        "\n",
        "*함수 정의(function definiton):함수를 정의할 때는 def키워드, 함수명, 콜론(:), 실행문으로 나누어 작성함\n"
      ],
      "metadata": {
        "id": "UoWD0PK3JU0L"
      }
    },
    {
      "cell_type": "markdown",
      "source": [
        "##사용자 정의 함수\n",
        "\n",
        "def 함수명():\n",
        "  명령문\n",
        "  명령문 .....>함수 정의\n",
        "\n",
        "\n",
        "함수명() .....>함수 호출"
      ],
      "metadata": {
        "id": "JNcAKTxXJ9Jq"
      }
    },
    {
      "cell_type": "code",
      "source": [
        "##함수 정의\n",
        "def infoper():\n",
        "  print('강남구')\n",
        "  print('이가연')\n",
        "\n",
        "##함수 호출\n",
        "infoper()"
      ],
      "metadata": {
        "colab": {
          "base_uri": "https://localhost:8080/"
        },
        "id": "fOhm9EZsG65T",
        "outputId": "7941fa33-1c34-444e-a782-d9d981b3de65"
      },
      "execution_count": null,
      "outputs": [
        {
          "output_type": "stream",
          "name": "stdout",
          "text": [
            "강남구\n",
            "이가연\n"
          ]
        }
      ]
    },
    {
      "cell_type": "code",
      "source": [
        "def infoper():\n",
        "  print('강남구')\n",
        "  print('이가연')\n",
        "\n",
        "for i in range(10):\n",
        "  infoper()"
      ],
      "metadata": {
        "colab": {
          "base_uri": "https://localhost:8080/"
        },
        "id": "PzS6gqk9KoeA",
        "outputId": "9e1c4f59-e570-45b5-8517-be9c412e70fe"
      },
      "execution_count": null,
      "outputs": [
        {
          "output_type": "stream",
          "name": "stdout",
          "text": [
            "강남구\n",
            "이가연\n",
            "강남구\n",
            "이가연\n",
            "강남구\n",
            "이가연\n",
            "강남구\n",
            "이가연\n",
            "강남구\n",
            "이가연\n",
            "강남구\n",
            "이가연\n",
            "강남구\n",
            "이가연\n",
            "강남구\n",
            "이가연\n",
            "강남구\n",
            "이가연\n",
            "강남구\n",
            "이가연\n"
          ]
        }
      ]
    },
    {
      "cell_type": "markdown",
      "source": [
        "##함수의 인수\n",
        "함수를 호출할 때 괄호 안에 '인수'를 기술하면, 함수를 만들 때 정의된 '매개변수'에 값이 전달\n",
        "-인수:함수를 호출할 때 넘겨주는 데이터\n",
        "-매개변수:함수 호출부에서 넘긴 인수를 함수 정의부에서 받아 저장하는 변수"
      ],
      "metadata": {
        "id": "aCity7dJK5cL"
      }
    },
    {
      "cell_type": "code",
      "source": [
        "##함수 인수 이용\n",
        "#함수 정의\n",
        "def infoper(addr, name): ## 변수 생성(addr, name) 메모리에만 기억되어 있기 때문에  호출되었을 때만 활성화\n",
        "  print(addr)        ##이 안에서만 사용가능하고 벗어나게 되면 X(지역변수)\n",
        "  print(name)\n",
        "\n",
        "\n",
        "#함수 호출\n",
        "addr=input('주소 입력>> ')\n",
        "name=input('이름>> ')\n",
        "infoper(addr, name) ## 호출된 addr, name 이 정의된 함수로 들어가서 출력됨, 함수 정의 변수와 함수 호출 변수는 별개의 변수"
      ],
      "metadata": {
        "colab": {
          "base_uri": "https://localhost:8080/"
        },
        "id": "dp2vk9vcK9vc",
        "outputId": "4752ea6b-6834-4ce6-f8a9-cc7fb4d775f3"
      },
      "execution_count": null,
      "outputs": [
        {
          "output_type": "stream",
          "name": "stdout",
          "text": [
            "주소 입력>> 강남구\n",
            "이름>> 이가연\n",
            "강남구\n",
            "이가연\n"
          ]
        }
      ]
    },
    {
      "cell_type": "code",
      "source": [
        "##더하기, 빼기 함수 작성\n",
        "def calculate_math(a,b,c):\n",
        "  result1=a+b+c\n",
        "  result2=a-b-c\n",
        "  result3=result1/3\n",
        "  print('더하기', result1)\n",
        "  print('빼기', result2)\n",
        "  print('평균', result3)\n",
        "\n",
        "calculate_math(100,200,300)"
      ],
      "metadata": {
        "colab": {
          "base_uri": "https://localhost:8080/"
        },
        "id": "u2HZQF7ZM_jZ",
        "outputId": "0d5d2190-0708-4f99-8e05-652ccf5fdec3"
      },
      "execution_count": null,
      "outputs": [
        {
          "output_type": "stream",
          "name": "stdout",
          "text": [
            "더하기 600\n",
            "빼기 -400\n",
            "평균 200.0\n"
          ]
        }
      ]
    },
    {
      "cell_type": "code",
      "source": [
        "##더하기, 빼기 함수 작성\n",
        "def calculate_math(a,b,c):\n",
        "  result1=a+b+c\n",
        "  result2=result1/3\n",
        "\n",
        "  return result1, result2\n",
        "\n",
        "x,y=calculate_math(100,200,300)\n",
        "print(x,y)\n"
      ],
      "metadata": {
        "colab": {
          "base_uri": "https://localhost:8080/"
        },
        "id": "OgZT_a3hOgeQ",
        "outputId": "9796bc7c-4d02-4bfe-bfe6-f76f23b5a266"
      },
      "execution_count": null,
      "outputs": [
        {
          "output_type": "stream",
          "name": "stdout",
          "text": [
            "600 200.0\n"
          ]
        }
      ]
    },
    {
      "cell_type": "code",
      "source": [
        "#사용자로부터 입력받아 구구단을 출력하는 프로그램을 작성해보세요.\n",
        "##함수를 이용하지 않고 작성\n",
        "x=int(input('출력을 원하는 단을 입력: '))\n",
        "\n",
        "if 2<=x<=9:\n",
        "  for i in range(1,10):\n",
        "    print(f'{x}*{i}={x*i}')\n",
        "else:\n",
        "  print('입력 오류!!')"
      ],
      "metadata": {
        "id": "Ar12zp1ePWLR"
      },
      "execution_count": null,
      "outputs": []
    },
    {
      "cell_type": "code",
      "source": [
        "#사용자로부터 입력받아 구구단을 출력하는 프로그램을 작성해보세요.\n",
        "##함수를 이용해 작성\n",
        "\n",
        "#함수 정의\n",
        "def gugudan(x):  ## 매개변수\n",
        "  if 2<=x<=9:\n",
        "    for i in range(1,10):\n",
        "      print(f'{x}*{i}={x*i}')\n",
        "  else:\n",
        "    print('입력 오류!!')\n",
        "\n",
        "x=int(input('출력을 원하는 단을 입력: '))\n",
        "#함수 호출\n",
        "gugudan(x)\n"
      ],
      "metadata": {
        "colab": {
          "base_uri": "https://localhost:8080/"
        },
        "id": "BM16-IREQ_m5",
        "outputId": "7d883e7d-05e9-405d-feb3-3b78cd8e3e82"
      },
      "execution_count": null,
      "outputs": [
        {
          "output_type": "stream",
          "name": "stdout",
          "text": [
            "출력을 원하는 단을 입력: 3\n",
            "3*1=3\n",
            "3*2=6\n",
            "3*3=9\n",
            "3*4=12\n",
            "3*5=15\n",
            "3*6=18\n",
            "3*7=21\n",
            "3*8=24\n",
            "3*9=27\n"
          ]
        }
      ]
    },
    {
      "cell_type": "code",
      "source": [
        "##사용자로부터 3개의 정수를 입력 받아 가장 큰 수를 구하는 프로그램을 작성해보세요.\n",
        "x=int(input('첫 번째 숫자 입력: '))\n",
        "y=int(input('두 번째 숫자 입력: '))\n",
        "z=int(input('세 번째 숫자 입력: '))\n",
        "\n",
        "print(f'세 수 중에서 가장 큰 수는 {max(x,y,z)}이다.')"
      ],
      "metadata": {
        "colab": {
          "base_uri": "https://localhost:8080/"
        },
        "id": "u1mnaSJmR6Kb",
        "outputId": "9e967d3d-8766-4044-fea0-71ab8530c3c8"
      },
      "execution_count": null,
      "outputs": [
        {
          "output_type": "stream",
          "name": "stdout",
          "text": [
            "첫 번째 숫자 입력: 200\n",
            "두 번째 숫자 입력: 100\n",
            "세 번째 숫자 입력: 170\n",
            "200\n"
          ]
        }
      ]
    },
    {
      "cell_type": "code",
      "source": [
        "##사용자로부터 3개의 정수를 입력 받아 가장 큰 수를 구하는 프로그램을 작성해보세요.\n",
        "a=int(input('첫 번째 숫자 입력: '))\n",
        "b=int(input('두 번째 숫자 입력: '))\n",
        "c=int(input('세 번째 숫자 입력: '))\n",
        "\n",
        "if a>b:\n",
        "  big=a\n",
        "else:\n",
        "  big=b\n",
        "\n",
        "if  big<c:\n",
        "  big=c\n",
        "\n",
        "print(f'가장 큰 수는 {big}')\n"
      ],
      "metadata": {
        "colab": {
          "base_uri": "https://localhost:8080/"
        },
        "id": "-YGsAb-HSzDU",
        "outputId": "b170c993-6056-40d7-9b37-7281af60556a"
      },
      "execution_count": null,
      "outputs": [
        {
          "output_type": "stream",
          "name": "stdout",
          "text": [
            "첫 번째 숫자 입력: 200\n",
            "두 번째 숫자 입력: 100\n",
            "세 번째 숫자 입력: 170\n",
            "가장 큰 수는 200\n"
          ]
        }
      ]
    },
    {
      "cell_type": "code",
      "source": [
        "##사용자로부터 3개의 정수를 입력 받아 가장 큰 수를 구하는 프로그램을 작성해보세요.\n",
        "#함수 정의\n",
        "def findMax(a,b,c):\n",
        "\n",
        "  if a>b:\n",
        "    big=a\n",
        "  else:\n",
        "    big=b\n",
        "\n",
        "  if  big<c:\n",
        "    big=c\n",
        "\n",
        "  return big\n",
        "\n",
        "\n",
        "a=int(input('첫 번째 숫자 입력: '))\n",
        "b=int(input('두 번째 숫자 입력: '))\n",
        "c=int(input('세 번째 숫자 입력: '))\n",
        "\n",
        "result=findMax(a,b,c)\n",
        "\n",
        "print(f'가장 큰 수는 {big}')\n"
      ],
      "metadata": {
        "colab": {
          "base_uri": "https://localhost:8080/"
        },
        "id": "EwsIPI9mTpvd",
        "outputId": "bdede1e3-9c74-43ec-8f9c-520022238556"
      },
      "execution_count": null,
      "outputs": [
        {
          "output_type": "stream",
          "name": "stdout",
          "text": [
            "첫 번째 숫자 입력: 200\n",
            "두 번째 숫자 입력: 100\n",
            "세 번째 숫자 입력: 170\n",
            "가장 큰 수는 200\n"
          ]
        }
      ]
    },
    {
      "cell_type": "code",
      "source": [
        "******다시다시다시# 입력받은 반지름을 매개변수로 반다,  원의 둘레를 계산한 후 원의\n",
        "\n",
        "def circleRound(r):\n",
        "  pi=3.14\n",
        "\n",
        "#반지름 입력\n",
        "n=int(input(''))"
      ],
      "metadata": {
        "id": "yVnSFySDWFue"
      },
      "execution_count": null,
      "outputs": []
    },
    {
      "cell_type": "markdown",
      "source": [
        "##모듈\n",
        "*모듈은 함수나 변수 또는 클래스들을 모아 놓은 파일\n",
        "*특정 기능(함수)을 포함하고 있는 파일(xxx.py)로 다른 프로그램에 이식해서 사용하는 것\n",
        "\n",
        "표준 모듈:파이썬에서 기본으로 제공하는 모듈\n",
        "\n",
        "os: 운영 체제와 상호작용하기 위한 기능을 제공하는 모듈\n",
        "sys: 파이썬 인터프리터와 관련된 기능을 제공하는 모듈\n",
        "math: 수학적인 연산을 수행하기 위한 기능을 제공하는 모듈\n",
        "random: 난수를 생성하기 위한 기능을 제공하는 모듈\n",
        "datetime: 날짜와 시간을 다루기 위한 기능을 제공하는 모듈\n",
        "\n",
        "모듈을 import 하는 방법\n",
        "1. import 모듈(**)\n",
        "2. import 모듈 as 별칭(**)\n",
        "3. from 모듈 import 함수1, 함수2,...\n",
        "4. from 모듈 import*"
      ],
      "metadata": {
        "id": "lVAQtVl3Y7O6"
      }
    },
    {
      "cell_type": "code",
      "source": [
        "### 다시다시다시##\"영어단어 5문제 출제\"하는 프로그램을 만들어 보세요.\n",
        "import random\n",
        "word_data={'cat':'고양이','apple':'사과','friend':'친구','flower':'꽃'}\n",
        "\n",
        "word=list(word_data.keys())\n",
        "print(random.choice(word))"
      ],
      "metadata": {
        "colab": {
          "base_uri": "https://localhost:8080/"
        },
        "id": "OYhRPdkddAtE",
        "outputId": "f800b3ef-153c-4c3d-e5a5-1d8e845bb91e"
      },
      "execution_count": null,
      "outputs": [
        {
          "output_type": "stream",
          "name": "stdout",
          "text": [
            "apple\n"
          ]
        }
      ]
    },
    {
      "cell_type": "code",
      "source": [
        "import random\n",
        "word_data={'cat':'고양이','apple':'사과','friend':'친구','flower':'꽃'}\n",
        "\n",
        "word=random.choice(list(word_data.keys()))\n",
        "\n",
        "print(f'다음 단어의 뜻은 무엇일까요?{word}')\n",
        "guess=input('뜻을 입력하세요>> ')\n",
        "if guess==word_data[word]:\n",
        "  print('정답')\n",
        "else:\n",
        "  print('오답')\n",
        "  print(word_data[word])"
      ],
      "metadata": {
        "colab": {
          "base_uri": "https://localhost:8080/"
        },
        "id": "mSc2t3SReDNW",
        "outputId": "f39183cd-4bb6-4bd7-c0fe-e65d6706f733"
      },
      "execution_count": null,
      "outputs": [
        {
          "output_type": "stream",
          "name": "stdout",
          "text": [
            "다음 단어의 뜻은 무엇일까요?cat\n",
            "뜻을 입력하세요>> 쥐\n",
            "오답\n",
            "고양이\n"
          ]
        }
      ]
    },
    {
      "cell_type": "code",
      "source": [
        "menu=int('메뉴선택(1. 데이터 추가, 2. 영어단어퀴즈)')\n",
        "if menu==1:\n",
        "  pass\n",
        "elif menu==2:\n",
        "  eng_question()\n",
        "else:\n",
        "  print(\"없는 메뉴입니다.\")"
      ],
      "metadata": {
        "id": "V2icW3JqlBVz"
      },
      "execution_count": null,
      "outputs": []
    },
    {
      "cell_type": "code",
      "source": [
        "##구구단 게임을 컴퓨터와 하는 프로그램을 당음의 조건대로 작성해보세요.\n",
        "#컴퓨터가 임의의 구구단을 하나 생성한 후 이를 플레이어에게 정해진 시간 안에 맞히라고 한다. 플레이어는 정해진 시간 안에 이를 맞히면 맞힌 개수로 인정하고 계산이 틀렸거나\n",
        " 시간이 초과되면 못 맞 힐 것으로 간주된다. random, time 모듈 이용\n",
        "x=int(input(\n"
      ],
      "metadata": {
        "id": "s1MGSMMCmUsp"
      },
      "execution_count": null,
      "outputs": []
    },
    {
      "cell_type": "code",
      "source": [
        "##구구단 게임\n",
        "\n",
        "import random\n",
        "correct=0\n",
        "\n",
        "count=int(input('몇번할까요?'))\n",
        "\n"
      ],
      "metadata": {
        "id": "OI_t81UqoysK"
      },
      "execution_count": null,
      "outputs": []
    },
    {
      "cell_type": "code",
      "source": [
        "import time\n",
        "print(time.time())\n"
      ],
      "metadata": {
        "colab": {
          "base_uri": "https://localhost:8080/"
        },
        "id": "6cOlB-UXqxO2",
        "outputId": "48554c53-0f38-4874-a796-7ff5a13cd129"
      },
      "execution_count": null,
      "outputs": [
        {
          "output_type": "stream",
          "name": "stdout",
          "text": [
            "1736738323.044824\n"
          ]
        }
      ]
    },
    {
      "cell_type": "code",
      "source": [
        "import time\n",
        "print(time.time())"
      ],
      "metadata": {
        "colab": {
          "base_uri": "https://localhost:8080/"
        },
        "id": "NCk-Vy9sq5oW",
        "outputId": "b9bf2fee-85bf-4237-9111-0ff0cf3bae46"
      },
      "execution_count": null,
      "outputs": [
        {
          "output_type": "stream",
          "name": "stdout",
          "text": [
            "1736738453.541374\n"
          ]
        }
      ]
    },
    {
      "cell_type": "code",
      "source": [],
      "metadata": {
        "id": "MLFMLvX3rYqb"
      },
      "execution_count": null,
      "outputs": []
    }
  ]
}