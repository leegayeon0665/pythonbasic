{
 "cells": [
  {
   "cell_type": "code",
   "execution_count": 1,
   "metadata": {},
   "outputs": [
    {
     "name": "stdout",
     "output_type": "stream",
     "text": [
      "이가연\n"
     ]
    }
   ],
   "source": [
    "print('이가연')"
   ]
  },
  {
   "cell_type": "code",
   "execution_count": 2,
   "metadata": {},
   "outputs": [
    {
     "name": "stdout",
     "output_type": "stream",
     "text": [
      "50\n"
     ]
    }
   ],
   "source": [
    "def rectArea(width,height):\n",
    "    a = width * height\n",
    "    return a\n",
    "\n",
    "print(rectArea(5,10))"
   ]
  },
  {
   "cell_type": "markdown",
   "metadata": {},
   "source": [
    "##ipyth  에서 미리 테스트해보고 py에 적용하기"
   ]
  },
  {
   "cell_type": "code",
   "execution_count": 3,
   "metadata": {},
   "outputs": [
    {
     "name": "stdout",
     "output_type": "stream",
     "text": [
      "사각형 넓이 = 50\n",
      "삼각형 넓이 = 25.0\n"
     ]
    }
   ],
   "source": [
    "def rectArea(width,height):\n",
    "    #a = width * height\n",
    "    return width * height\n",
    "\n",
    "def triArea(base,height):\n",
    "    return base * height/2\n",
    "\n",
    "print(f'사각형 넓이 = {rectArea(5,10)}')\n",
    "print(f'삼각형 넓이 = {triArea(5,10)}')"
   ]
  },
  {
   "cell_type": "code",
   "execution_count": null,
   "metadata": {},
   "outputs": [],
   "source": []
  }
 ],
 "metadata": {
  "kernelspec": {
   "display_name": "Python 3",
   "language": "python",
   "name": "python3"
  },
  "language_info": {
   "codemirror_mode": {
    "name": "ipython",
    "version": 3
   },
   "file_extension": ".py",
   "mimetype": "text/x-python",
   "name": "python",
   "nbconvert_exporter": "python",
   "pygments_lexer": "ipython3",
   "version": "3.13.1"
  }
 },
 "nbformat": 4,
 "nbformat_minor": 2
}
